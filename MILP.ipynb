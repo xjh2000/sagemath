{
 "cells": [
  {
   "cell_type": "code",
   "execution_count": 1,
   "metadata": {},
   "outputs": [],
   "source": [
    "from sage.all import *"
   ]
  },
  {
   "cell_type": "markdown",
   "metadata": {},
   "source": [
    "## Reference\n",
    "\n",
    "- [sage-tutorial-MILP](https://doc.sagemath.org/html/en/thematic_tutorials/linear_programming.html#linear-programming)"
   ]
  },
  {
   "cell_type": "markdown",
   "metadata": {},
   "source": [
    "Here we present the usual definition of what a linear program is: it is defined by a matrix \n",
    "$A:\\mathbb{R}^m\\mapsto\\mathbb{R}^n$, along with two vectors $b,c\\to \\mathbb{R}^n$\n",
    ". Solving a linear program is searching for a vector \n",
    " maximizing an objective function and satisfying a set of constraints, i.e."
   ]
  }
 ],
 "metadata": {
  "kernelspec": {
   "display_name": "SageMath 10.2",
   "language": "sage",
   "name": "sagemath"
  },
  "language_info": {
   "codemirror_mode": {
    "name": "ipython",
    "version": 3
   },
   "file_extension": ".py",
   "mimetype": "text/x-python",
   "name": "python",
   "nbconvert_exporter": "python",
   "pygments_lexer": "ipython3",
   "version": "3.11.7"
  }
 },
 "nbformat": 4,
 "nbformat_minor": 2
}
