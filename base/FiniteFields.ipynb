{
 "cells": [
  {
   "cell_type": "code",
   "execution_count": 1,
   "metadata": {},
   "outputs": [],
   "source": [
    "from sage.all import  * "
   ]
  },
  {
   "cell_type": "markdown",
   "metadata": {},
   "source": [
    "## Finite Rings\n",
    "\n",
    "$\\mathbf{Z}/p\\mathbf{Z}$ and $\\mathbf{F}_p$"
   ]
  },
  {
   "cell_type": "code",
   "execution_count": 5,
   "metadata": {},
   "outputs": [
    {
     "data": {
      "text/plain": [
       "3"
      ]
     },
     "execution_count": 5,
     "metadata": {},
     "output_type": "execute_result"
    }
   ],
   "source": [
    "R = Integers(7)\n",
    "R(10)"
   ]
  },
  {
   "cell_type": "code",
   "execution_count": 7,
   "metadata": {},
   "outputs": [
    {
     "data": {
      "text/plain": [
       "Join of Category of finite commutative rings and Category of subquotients of monoids and Category of quotients of semigroups and Category of finite enumerated sets"
      ]
     },
     "execution_count": 7,
     "metadata": {},
     "output_type": "execute_result"
    }
   ],
   "source": [
    "R.category()"
   ]
  },
  {
   "cell_type": "code",
   "execution_count": 8,
   "metadata": {},
   "outputs": [
    {
     "data": {
      "text/plain": [
       "2"
      ]
     },
     "execution_count": 8,
     "metadata": {},
     "output_type": "execute_result"
    }
   ],
   "source": [
    "R = Integers(5)\n",
    "R.multiplicative_generator()"
   ]
  },
  {
   "cell_type": "code",
   "execution_count": 9,
   "metadata": {},
   "outputs": [
    {
     "data": {
      "text/plain": [
       "True"
      ]
     },
     "execution_count": 9,
     "metadata": {},
     "output_type": "execute_result"
    }
   ],
   "source": [
    "mod(3, 5).is_primitive_root()"
   ]
  },
  {
   "cell_type": "markdown",
   "metadata": {},
   "source": [
    "## Finite fields"
   ]
  },
  {
   "cell_type": "code",
   "execution_count": 14,
   "metadata": {},
   "outputs": [],
   "source": [
    "x = var(\"x\")\n",
    "k = GF((2, 8), x)"
   ]
  },
  {
   "cell_type": "code",
   "execution_count": 15,
   "metadata": {},
   "outputs": [
    {
     "name": "stdout",
     "output_type": "stream",
     "text": [
      "0 0\n",
      "1 x\n",
      "2 x^2\n",
      "3 x^3\n",
      "4 x^4\n",
      "5 x^5\n",
      "6 x^6\n",
      "7 x^7\n",
      "8 x^4 + x^3 + x^2 + 1\n",
      "9 x^5 + x^4 + x^3 + x\n",
      "10 x^6 + x^5 + x^4 + x^2\n",
      "11 x^7 + x^6 + x^5 + x^3\n",
      "12 x^7 + x^6 + x^3 + x^2 + 1\n",
      "13 x^7 + x^2 + x + 1\n",
      "14 x^4 + x + 1\n",
      "15 x^5 + x^2 + x\n",
      "16 x^6 + x^3 + x^2\n",
      "17 x^7 + x^4 + x^3\n",
      "18 x^5 + x^3 + x^2 + 1\n",
      "19 x^6 + x^4 + x^3 + x\n",
      "20 x^7 + x^5 + x^4 + x^2\n",
      "21 x^6 + x^5 + x^4 + x^2 + 1\n",
      "22 x^7 + x^6 + x^5 + x^3 + x\n",
      "23 x^7 + x^6 + x^3 + 1\n",
      "24 x^7 + x^3 + x^2 + x + 1\n",
      "25 x + 1\n",
      "26 x^2 + x\n",
      "27 x^3 + x^2\n",
      "28 x^4 + x^3\n",
      "29 x^5 + x^4\n",
      "30 x^6 + x^5\n",
      "31 x^7 + x^6\n",
      "32 x^7 + x^4 + x^3 + x^2 + 1\n",
      "33 x^5 + x^2 + x + 1\n",
      "34 x^6 + x^3 + x^2 + x\n",
      "35 x^7 + x^4 + x^3 + x^2\n",
      "36 x^5 + x^2 + 1\n",
      "37 x^6 + x^3 + x\n",
      "38 x^7 + x^4 + x^2\n",
      "39 x^5 + x^4 + x^2 + 1\n",
      "40 x^6 + x^5 + x^3 + x\n",
      "41 x^7 + x^6 + x^4 + x^2\n",
      "42 x^7 + x^5 + x^4 + x^2 + 1\n",
      "43 x^6 + x^5 + x^4 + x^2 + x + 1\n",
      "44 x^7 + x^6 + x^5 + x^3 + x^2 + x\n",
      "45 x^7 + x^6 + 1\n",
      "46 x^7 + x^4 + x^3 + x^2 + x + 1\n",
      "47 x^5 + x + 1\n",
      "48 x^6 + x^2 + x\n",
      "49 x^7 + x^3 + x^2\n",
      "50 x^2 + 1\n",
      "51 x^3 + x\n",
      "52 x^4 + x^2\n",
      "53 x^5 + x^3\n",
      "54 x^6 + x^4\n",
      "55 x^7 + x^5\n",
      "56 x^6 + x^4 + x^3 + x^2 + 1\n",
      "57 x^7 + x^5 + x^4 + x^3 + x\n",
      "58 x^6 + x^5 + x^3 + 1\n",
      "59 x^7 + x^6 + x^4 + x\n",
      "60 x^7 + x^5 + x^4 + x^3 + 1\n",
      "61 x^6 + x^5 + x^3 + x^2 + x + 1\n",
      "62 x^7 + x^6 + x^4 + x^3 + x^2 + x\n",
      "63 x^7 + x^5 + 1\n",
      "64 x^6 + x^4 + x^3 + x^2 + x + 1\n",
      "65 x^7 + x^5 + x^4 + x^3 + x^2 + x\n",
      "66 x^6 + x^5 + 1\n",
      "67 x^7 + x^6 + x\n",
      "68 x^7 + x^4 + x^3 + 1\n",
      "69 x^5 + x^3 + x^2 + x + 1\n",
      "70 x^6 + x^4 + x^3 + x^2 + x\n",
      "71 x^7 + x^5 + x^4 + x^3 + x^2\n",
      "72 x^6 + x^5 + x^2 + 1\n",
      "73 x^7 + x^6 + x^3 + x\n",
      "74 x^7 + x^3 + 1\n",
      "75 x^3 + x^2 + x + 1\n",
      "76 x^4 + x^3 + x^2 + x\n",
      "77 x^5 + x^4 + x^3 + x^2\n",
      "78 x^6 + x^5 + x^4 + x^3\n",
      "79 x^7 + x^6 + x^5 + x^4\n",
      "80 x^7 + x^6 + x^5 + x^4 + x^3 + x^2 + 1\n",
      "81 x^7 + x^6 + x^5 + x^2 + x + 1\n",
      "82 x^7 + x^6 + x^4 + x + 1\n",
      "83 x^7 + x^5 + x^4 + x^3 + x + 1\n",
      "84 x^6 + x^5 + x^3 + x + 1\n",
      "85 x^7 + x^6 + x^4 + x^2 + x\n",
      "86 x^7 + x^5 + x^4 + 1\n",
      "87 x^6 + x^5 + x^4 + x^3 + x^2 + x + 1\n",
      "88 x^7 + x^6 + x^5 + x^4 + x^3 + x^2 + x\n",
      "89 x^7 + x^6 + x^5 + 1\n",
      "90 x^7 + x^6 + x^4 + x^3 + x^2 + x + 1\n",
      "91 x^7 + x^5 + x + 1\n",
      "92 x^6 + x^4 + x^3 + x + 1\n",
      "93 x^7 + x^5 + x^4 + x^2 + x\n",
      "94 x^6 + x^5 + x^4 + 1\n",
      "95 x^7 + x^6 + x^5 + x\n",
      "96 x^7 + x^6 + x^4 + x^3 + 1\n",
      "97 x^7 + x^5 + x^3 + x^2 + x + 1\n",
      "98 x^6 + x + 1\n",
      "99 x^7 + x^2 + x\n",
      "100 x^4 + 1\n",
      "101 x^5 + x\n",
      "102 x^6 + x^2\n",
      "103 x^7 + x^3\n",
      "104 x^3 + x^2 + 1\n",
      "105 x^4 + x^3 + x\n",
      "106 x^5 + x^4 + x^2\n",
      "107 x^6 + x^5 + x^3\n",
      "108 x^7 + x^6 + x^4\n",
      "109 x^7 + x^5 + x^4 + x^3 + x^2 + 1\n",
      "110 x^6 + x^5 + x^2 + x + 1\n",
      "111 x^7 + x^6 + x^3 + x^2 + x\n",
      "112 x^7 + 1\n",
      "113 x^4 + x^3 + x^2 + x + 1\n",
      "114 x^5 + x^4 + x^3 + x^2 + x\n",
      "115 x^6 + x^5 + x^4 + x^3 + x^2\n",
      "116 x^7 + x^6 + x^5 + x^4 + x^3\n",
      "117 x^7 + x^6 + x^5 + x^3 + x^2 + 1\n",
      "118 x^7 + x^6 + x^2 + x + 1\n",
      "119 x^7 + x^4 + x + 1\n",
      "120 x^5 + x^4 + x^3 + x + 1\n",
      "121 x^6 + x^5 + x^4 + x^2 + x\n",
      "122 x^7 + x^6 + x^5 + x^3 + x^2\n",
      "123 x^7 + x^6 + x^2 + 1\n",
      "124 x^7 + x^4 + x^2 + x + 1\n",
      "125 x^5 + x^4 + x + 1\n",
      "126 x^6 + x^5 + x^2 + x\n",
      "127 x^7 + x^6 + x^3 + x^2\n",
      "128 x^7 + x^2 + 1\n",
      "129 x^4 + x^2 + x + 1\n",
      "130 x^5 + x^3 + x^2 + x\n",
      "131 x^6 + x^4 + x^3 + x^2\n",
      "132 x^7 + x^5 + x^4 + x^3\n",
      "133 x^6 + x^5 + x^3 + x^2 + 1\n",
      "134 x^7 + x^6 + x^4 + x^3 + x\n",
      "135 x^7 + x^5 + x^3 + 1\n",
      "136 x^6 + x^3 + x^2 + x + 1\n",
      "137 x^7 + x^4 + x^3 + x^2 + x\n",
      "138 x^5 + 1\n",
      "139 x^6 + x\n",
      "140 x^7 + x^2\n",
      "141 x^4 + x^2 + 1\n",
      "142 x^5 + x^3 + x\n",
      "143 x^6 + x^4 + x^2\n",
      "144 x^7 + x^5 + x^3\n",
      "145 x^6 + x^3 + x^2 + 1\n",
      "146 x^7 + x^4 + x^3 + x\n",
      "147 x^5 + x^3 + 1\n",
      "148 x^6 + x^4 + x\n",
      "149 x^7 + x^5 + x^2\n",
      "150 x^6 + x^4 + x^2 + 1\n",
      "151 x^7 + x^5 + x^3 + x\n",
      "152 x^6 + x^3 + 1\n",
      "153 x^7 + x^4 + x\n",
      "154 x^5 + x^4 + x^3 + 1\n",
      "155 x^6 + x^5 + x^4 + x\n",
      "156 x^7 + x^6 + x^5 + x^2\n",
      "157 x^7 + x^6 + x^4 + x^2 + 1\n",
      "158 x^7 + x^5 + x^4 + x^2 + x + 1\n",
      "159 x^6 + x^5 + x^4 + x + 1\n",
      "160 x^7 + x^6 + x^5 + x^2 + x\n",
      "161 x^7 + x^6 + x^4 + 1\n",
      "162 x^7 + x^5 + x^4 + x^3 + x^2 + x + 1\n",
      "163 x^6 + x^5 + x + 1\n",
      "164 x^7 + x^6 + x^2 + x\n",
      "165 x^7 + x^4 + 1\n",
      "166 x^5 + x^4 + x^3 + x^2 + x + 1\n",
      "167 x^6 + x^5 + x^4 + x^3 + x^2 + x\n",
      "168 x^7 + x^6 + x^5 + x^4 + x^3 + x^2\n",
      "169 x^7 + x^6 + x^5 + x^2 + 1\n",
      "170 x^7 + x^6 + x^4 + x^2 + x + 1\n",
      "171 x^7 + x^5 + x^4 + x + 1\n",
      "172 x^6 + x^5 + x^4 + x^3 + x + 1\n",
      "173 x^7 + x^6 + x^5 + x^4 + x^2 + x\n",
      "174 x^7 + x^6 + x^5 + x^4 + 1\n",
      "175 x^7 + x^6 + x^5 + x^4 + x^3 + x^2 + x + 1\n",
      "176 x^7 + x^6 + x^5 + x + 1\n",
      "177 x^7 + x^6 + x^4 + x^3 + x + 1\n",
      "178 x^7 + x^5 + x^3 + x + 1\n",
      "179 x^6 + x^3 + x + 1\n",
      "180 x^7 + x^4 + x^2 + x\n",
      "181 x^5 + x^4 + 1\n",
      "182 x^6 + x^5 + x\n",
      "183 x^7 + x^6 + x^2\n",
      "184 x^7 + x^4 + x^2 + 1\n",
      "185 x^5 + x^4 + x^2 + x + 1\n",
      "186 x^6 + x^5 + x^3 + x^2 + x\n",
      "187 x^7 + x^6 + x^4 + x^3 + x^2\n",
      "188 x^7 + x^5 + x^2 + 1\n",
      "189 x^6 + x^4 + x^2 + x + 1\n",
      "190 x^7 + x^5 + x^3 + x^2 + x\n",
      "191 x^6 + 1\n",
      "192 x^7 + x\n",
      "193 x^4 + x^3 + 1\n",
      "194 x^5 + x^4 + x\n",
      "195 x^6 + x^5 + x^2\n",
      "196 x^7 + x^6 + x^3\n",
      "197 x^7 + x^3 + x^2 + 1\n",
      "198 x^2 + x + 1\n",
      "199 x^3 + x^2 + x\n",
      "200 x^4 + x^3 + x^2\n",
      "201 x^5 + x^4 + x^3\n",
      "202 x^6 + x^5 + x^4\n",
      "203 x^7 + x^6 + x^5\n",
      "204 x^7 + x^6 + x^4 + x^3 + x^2 + 1\n",
      "205 x^7 + x^5 + x^2 + x + 1\n",
      "206 x^6 + x^4 + x + 1\n",
      "207 x^7 + x^5 + x^2 + x\n",
      "208 x^6 + x^4 + 1\n",
      "209 x^7 + x^5 + x\n",
      "210 x^6 + x^4 + x^3 + 1\n",
      "211 x^7 + x^5 + x^4 + x\n",
      "212 x^6 + x^5 + x^4 + x^3 + 1\n",
      "213 x^7 + x^6 + x^5 + x^4 + x\n",
      "214 x^7 + x^6 + x^5 + x^4 + x^3 + 1\n",
      "215 x^7 + x^6 + x^5 + x^3 + x^2 + x + 1\n",
      "216 x^7 + x^6 + x + 1\n",
      "217 x^7 + x^4 + x^3 + x + 1\n",
      "218 x^5 + x^3 + x + 1\n",
      "219 x^6 + x^4 + x^2 + x\n",
      "220 x^7 + x^5 + x^3 + x^2\n",
      "221 x^6 + x^2 + 1\n",
      "222 x^7 + x^3 + x\n",
      "223 x^3 + 1\n",
      "224 x^4 + x\n",
      "225 x^5 + x^2\n",
      "226 x^6 + x^3\n",
      "227 x^7 + x^4\n",
      "228 x^5 + x^4 + x^3 + x^2 + 1\n",
      "229 x^6 + x^5 + x^4 + x^3 + x\n",
      "230 x^7 + x^6 + x^5 + x^4 + x^2\n",
      "231 x^7 + x^6 + x^5 + x^4 + x^2 + 1\n",
      "232 x^7 + x^6 + x^5 + x^4 + x^2 + x + 1\n",
      "233 x^7 + x^6 + x^5 + x^4 + x + 1\n",
      "234 x^7 + x^6 + x^5 + x^4 + x^3 + x + 1\n",
      "235 x^7 + x^6 + x^5 + x^3 + x + 1\n",
      "236 x^7 + x^6 + x^3 + x + 1\n",
      "237 x^7 + x^3 + x + 1\n",
      "238 x^3 + x + 1\n",
      "239 x^4 + x^2 + x\n",
      "240 x^5 + x^3 + x^2\n",
      "241 x^6 + x^4 + x^3\n",
      "242 x^7 + x^5 + x^4\n",
      "243 x^6 + x^5 + x^4 + x^3 + x^2 + 1\n",
      "244 x^7 + x^6 + x^5 + x^4 + x^3 + x\n",
      "245 x^7 + x^6 + x^5 + x^3 + 1\n",
      "246 x^7 + x^6 + x^3 + x^2 + x + 1\n",
      "247 x^7 + x + 1\n",
      "248 x^4 + x^3 + x + 1\n",
      "249 x^5 + x^4 + x^2 + x\n",
      "250 x^6 + x^5 + x^3 + x^2\n",
      "251 x^7 + x^6 + x^4 + x^3\n",
      "252 x^7 + x^5 + x^3 + x^2 + 1\n",
      "253 x^6 + x^2 + x + 1\n",
      "254 x^7 + x^3 + x^2 + x\n",
      "255 1\n"
     ]
    }
   ],
   "source": [
    "for i, x in enumerate(k):\n",
    "    print(\"{} {}\".format(i, x))"
   ]
  },
  {
   "cell_type": "code",
   "execution_count": 18,
   "metadata": {},
   "outputs": [
    {
     "data": {
      "text/plain": [
       "x^8 + x^4 + x^3 + x^2 + 1"
      ]
     },
     "execution_count": 18,
     "metadata": {},
     "output_type": "execute_result"
    }
   ],
   "source": [
    "k.modulus()"
   ]
  },
  {
   "cell_type": "code",
   "execution_count": 22,
   "metadata": {},
   "outputs": [
    {
     "data": {
      "text/plain": [
       "(AlgebraicExtensionFunctor, Finite Field of size 2)"
      ]
     },
     "execution_count": 22,
     "metadata": {},
     "output_type": "execute_result"
    }
   ],
   "source": [
    "k.construction()"
   ]
  },
  {
   "cell_type": "code",
   "execution_count": 23,
   "metadata": {},
   "outputs": [
    {
     "data": {
      "text/plain": [
       "x^8 + x^4 + x^3 + x^2 + 1"
      ]
     },
     "execution_count": 23,
     "metadata": {},
     "output_type": "execute_result"
    }
   ],
   "source": [
    "k.polynomial()"
   ]
  }
 ],
 "metadata": {
  "kernelspec": {
   "display_name": "SageMath 10.2",
   "language": "sage",
   "name": "sagemath"
  },
  "language_info": {
   "codemirror_mode": {
    "name": "ipython",
    "version": 3
   },
   "file_extension": ".py",
   "mimetype": "text/x-python",
   "name": "python",
   "nbconvert_exporter": "python",
   "pygments_lexer": "ipython3",
   "version": "3.11.7"
  }
 },
 "nbformat": 4,
 "nbformat_minor": 2
}
