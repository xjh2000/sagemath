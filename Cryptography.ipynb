{
 "cells": [
  {
   "cell_type": "code",
   "execution_count": 1,
   "metadata": {},
   "outputs": [],
   "source": [
    "from sage.all import * "
   ]
  },
  {
   "cell_type": "markdown",
   "metadata": {},
   "source": [
    "A cryptosystem is a pair of maps \n",
    "$$ E:\\mathcal{K}\\to Hom(\\mathcal{M},\\mathcal{C}) \\\\ D:\\mathcal{K}\\to Hom(\\mathcal{C},\\mathcal{M}) $$\n",
    "\n",
    "where $\\mathcal{K}$ is the key space, $\\mathcal{M}$ is the plaintext or message space, and $\\mathcal{C}$ is the ciphertext space."
   ]
  },
  {
   "cell_type": "markdown",
   "metadata": {},
   "source": [
    "$$ \n",
    "c\\equiv ap+b \\pmod n \\\\\n",
    "p \\equiv a^{-1}(c-b) \\pmod n \\\\\n",
    "$$"
   ]
  },
  {
   "cell_type": "code",
   "execution_count": 19,
   "metadata": {},
   "outputs": [
    {
     "name": "stdout",
     "output_type": "stream",
     "text": [
      "plain    :THEAFFINECRYPTOSYSTEMGENERALIZESTHESHIFTCIPHER\n",
      "cipher   :CYXNGGHAXFKVSCJTVTCXRPXAXKNIHEXTCYXTYHGCFHSYXK\n"
     ]
    },
    {
     "data": {
      "text/plain": [
       "True"
      ]
     },
     "execution_count": 19,
     "metadata": {},
     "output_type": "execute_result"
    }
   ],
   "source": [
    "A = AffineCryptosystem(AlphabeticStrings())\n",
    "P = A.encoding(\"The affine cryptosystem generalizes the shift cipher.\")\n",
    "print(\"plain    :\" + str(P))\n",
    "a, b = (9, 13)\n",
    "C = A.enciphering(a, b, P)\n",
    "print(\"cipher   :\" + str(C))\n",
    "A.deciphering(a, b, C)\n",
    "A.deciphering(a, b, C) == P"
   ]
  },
  {
   "cell_type": "code",
   "execution_count": 13,
   "metadata": {},
   "outputs": [
    {
     "data": {
      "text/plain": [
       "[((3, 7), LINEAR),\n",
       " ((15, 6), ETUNHA),\n",
       " ((23, 19), TWRAEN),\n",
       " ((11, 7), DONUAH),\n",
       " ((19, 9), DIRGET),\n",
       " ((11, 15), HSRYEL),\n",
       " ((19, 8), OTCRPE),\n",
       " ((7, 17), HCTEGR),\n",
       " ((9, 9), POHEUR),\n",
       " ((7, 18), SNEPRC)]"
      ]
     },
     "execution_count": 13,
     "metadata": {},
     "output_type": "execute_result"
    }
   ],
   "source": [
    "A = AffineCryptosystem(AlphabeticStrings())\n",
    "a, b = (3, 7)\n",
    "P = A.encoding(\"Linear\")\n",
    "C = A.enciphering(a, b, P)\n",
    "L = A.brute_force(C, ranking=\"chisquare\")\n",
    "L[:10]"
   ]
  }
 ],
 "metadata": {
  "kernelspec": {
   "display_name": "SageMath 10.2",
   "language": "sage",
   "name": "sagemath"
  },
  "language_info": {
   "codemirror_mode": {
    "name": "ipython",
    "version": 3
   },
   "file_extension": ".py",
   "mimetype": "text/x-python",
   "name": "python",
   "nbconvert_exporter": "python",
   "pygments_lexer": "ipython3",
   "version": "3.11.7"
  }
 },
 "nbformat": 4,
 "nbformat_minor": 2
}
