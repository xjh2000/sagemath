{
 "cells": [
  {
   "cell_type": "code",
   "execution_count": 1,
   "metadata": {},
   "outputs": [],
   "source": [
    "from sage.all import *"
   ]
  },
  {
   "cell_type": "code",
   "execution_count": 2,
   "metadata": {},
   "outputs": [
    {
     "data": {
      "text/plain": [
       "(6, 1, 10, 12, 0)"
      ]
     },
     "execution_count": 2,
     "metadata": {},
     "output_type": "execute_result"
    }
   ],
   "source": [
    "a = IntegerModRing(15)(3)\n",
    "a + a, a - 17, a * a + 1, a ^ 3, a + 12"
   ]
  },
  {
   "cell_type": "code",
   "execution_count": 3,
   "metadata": {},
   "outputs": [
    {
     "data": {
      "text/plain": [
       "<class 'sage.rings.finite_rings.integer_mod.IntegerMod_int'>"
      ]
     },
     "execution_count": 3,
     "metadata": {},
     "output_type": "execute_result"
    }
   ],
   "source": [
    "type(a)"
   ]
  },
  {
   "cell_type": "code",
   "execution_count": 6,
   "metadata": {},
   "outputs": [
    {
     "data": {
      "text/plain": [
       "([1, 3, 4, 2, 1, 3, 4, 2, 1, 3], [1, 3, 9, 12, 6, 3, 9, 12, 6, 3])"
      ]
     },
     "execution_count": 6,
     "metadata": {},
     "output_type": "execute_result"
    }
   ],
   "source": [
    "b = IntegerModRing(5)(3)\n",
    "c = IntegerModRing(15)(3)\n",
    "bs = [b ^ i for i in range(10)]\n",
    "cs = [c ^ i for i in range(10)]\n",
    "bs, cs"
   ]
  },
  {
   "cell_type": "code",
   "execution_count": 5,
   "metadata": {},
   "outputs": [
    {
     "data": {
      "text/plain": [
       "[[1, 15],\n",
       " [2, 15],\n",
       " [3, 5],\n",
       " [4, 15],\n",
       " [5, 3],\n",
       " [6, 5],\n",
       " [7, 15],\n",
       " [8, 15],\n",
       " [9, 5],\n",
       " [10, 3],\n",
       " [11, 15],\n",
       " [12, 5],\n",
       " [13, 15],\n",
       " [14, 15]]"
      ]
     },
     "execution_count": 5,
     "metadata": {},
     "output_type": "execute_result"
    }
   ],
   "source": [
    "# relatively prime\n",
    "[[x, Mod(x, 15).additive_order()] for x in range(1, 15)]"
   ]
  },
  {
   "cell_type": "code",
   "execution_count": 15,
   "metadata": {},
   "outputs": [
    {
     "data": {
      "text/plain": [
       "[[1, 1], [2, 4], [4, 2], [7, 4], [8, 4], [11, 2], [13, 4], [14, 2]]"
      ]
     },
     "execution_count": 15,
     "metadata": {},
     "output_type": "execute_result"
    }
   ],
   "source": [
    "[[x, Mod(x,15).multiplicative_order()]  for x in range(1,15) if gcd(x,15) == 1]"
   ]
  },
  {
   "cell_type": "markdown",
   "metadata": {},
   "source": [
    "As well as constructing prime fields GF(p) with $p$ prime, one can construct\n",
    "non-prime finite fields GF(q) with $q = p^k$, where $p$ is prime and $k > 1$ an integer."
   ]
  },
  {
   "cell_type": "code",
   "execution_count": 7,
   "metadata": {},
   "outputs": [
    {
     "data": {
      "text/plain": [
       "[1, 9, 6, 13, 7, 3, 5, 15, 2, 12, 14, 10, 4, 11, 8, 16]"
      ]
     },
     "execution_count": 7,
     "metadata": {},
     "output_type": "execute_result"
    }
   ],
   "source": [
    "R = GF(17); [1/R(x) for x in range(1,17)]"
   ]
  },
  {
   "cell_type": "markdown",
   "metadata": {},
   "source": [
    "A non-prime finite field $\\mathbb{F}_{p^k}$ with $p$ prime and $k > 1$ is **isomorphic** to the\n",
    "quotient ring of polynomials in $\\mathbb{F}_{p}[x]$ modulo a monic irreducible polynomial $f$\n",
    "of degree $k$."
   ]
  },
  {
   "cell_type": "code",
   "execution_count": 11,
   "metadata": {},
   "outputs": [
    {
     "data": {
      "text/plain": [
       "x^4 + x + 1"
      ]
     },
     "execution_count": 11,
     "metadata": {},
     "output_type": "execute_result"
    }
   ],
   "source": [
    "R = GF(16, name=\"x\")\n",
    "R.polynomial()"
   ]
  },
  {
   "cell_type": "code",
   "execution_count": 15,
   "metadata": {},
   "outputs": [
    {
     "data": {
      "text/plain": [
       "{0, 1, x, x + 1, x^2, x^2 + 1, x^2 + x, x^2 + x + 1, x^3, x^3 + 1, x^3 + x, x^3 + x + 1, x^3 + x^2, x^3 + x^2 + 1, x^3 + x^2 + x, x^3 + x^2 + x + 1}"
      ]
     },
     "execution_count": 15,
     "metadata": {},
     "output_type": "execute_result"
    }
   ],
   "source": [
    "s = Set([r for r in R])\n",
    "s"
   ]
  },
  {
   "cell_type": "code",
   "execution_count": 27,
   "metadata": {},
   "outputs": [
    {
     "data": {
      "text/plain": [
       "{0, 1, a, a + 1, a^2, a^2 + 1, a^2 + a, a^2 + a + 1, a^3, a^3 + 1, a^3 + a, a^3 + a + 1, a^3 + a^2, a^3 + a^2 + 1, a^3 + a^2 + a, a^3 + a^2 + a + 1}"
      ]
     },
     "execution_count": 27,
     "metadata": {},
     "output_type": "execute_result"
    }
   ],
   "source": [
    "# Define the base field and the variable for the polynomial ring\n",
    "F = GF(2)\n",
    "a = F[\"a\"].gen()\n",
    "\n",
    "# Define your own irreducible polynomial\n",
    "poly = a ^ 4 + a ^ 3 + a ^ 2  + a + 1\n",
    "\n",
    "# Create the finite field with the specific irreducible polynomial\n",
    "R = GF(2 ^ 4, name=\"a\", modulus=poly)\n",
    "\n",
    "# Now R uses your specific irreducible polynomial\n",
    "s = Set([r for r in R])\n",
    "s"
   ]
  }
 ],
 "metadata": {
  "kernelspec": {
   "display_name": "SageMath 10.2",
   "language": "sage",
   "name": "sagemath"
  },
  "language_info": {
   "codemirror_mode": {
    "name": "ipython",
    "version": 3
   },
   "file_extension": ".py",
   "mimetype": "text/x-python",
   "name": "python",
   "nbconvert_exporter": "python",
   "pygments_lexer": "ipython3",
   "version": "3.11.7"
  }
 },
 "nbformat": 4,
 "nbformat_minor": 2
}
