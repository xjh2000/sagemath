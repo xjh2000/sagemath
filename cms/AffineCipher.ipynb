{
 "cells": [
  {
   "cell_type": "code",
   "execution_count": 1,
   "metadata": {},
   "outputs": [],
   "source": [
    "from sage.all import * "
   ]
  },
  {
   "cell_type": "markdown",
   "metadata": {},
   "source": [
    "A cryptosystem is a pair of maps \n",
    "$$ E:\\mathcal{K}\\to Hom(\\mathcal{M},\\mathcal{C}) \\\\ D:\\mathcal{K}\\to Hom(\\mathcal{C},\\mathcal{M}) $$\n",
    "\n",
    "where $\\mathcal{K}$ is the key space, $\\mathcal{M}$ is the plaintext or message space, and $\\mathcal{C}$ is the ciphertext space."
   ]
  },
  {
   "cell_type": "markdown",
   "metadata": {},
   "source": [
    "$$ \n",
    "c\\equiv ap+b \\pmod n \\\\\n",
    "p \\equiv a^{-1}(c-b) \\pmod n \\\\\n",
    "$$"
   ]
  },
  {
   "cell_type": "code",
   "execution_count": 10,
   "metadata": {},
   "outputs": [
    {
     "name": "stdout",
     "output_type": "stream",
     "text": [
      "plain    :THEAFFINECRYPTOSYSTEMGENERALIZESTHESHIFTCIPHER\n",
      "cipher   :CYXNGGHAXFKVSCJTVTCXRPXAXKNIHEXTCYXTYHGCFHSYXK\n"
     ]
    },
    {
     "data": {
      "text/plain": [
       "True"
      ]
     },
     "execution_count": 10,
     "metadata": {},
     "output_type": "execute_result"
    }
   ],
   "source": [
    "from sage.crypto.classical import AffineCryptosystem\n",
    "\n",
    "A = AffineCryptosystem(AlphabeticStrings())\n",
    "P = A.encoding(\"The affine cryptosystem generalizes the shift cipher.\")\n",
    "print(\"plain    :\" + str(P))\n",
    "a, b = (9, 13)\n",
    "C = A.enciphering(a, b, P)\n",
    "print(\"cipher   :\" + str(C))\n",
    "A.deciphering(a, b, C)\n",
    "A.deciphering(a, b, C) == P"
   ]
  },
  {
   "cell_type": "markdown",
   "metadata": {},
   "source": [
    "Use the chi-square statistic to rank all possible keys. Currently, this method only applies to the capital letters of the English alphabet.\n",
    "\n",
    "Consider a non-empty alphabet $A$ consisting of $n$ elements, and let $C$ be a ciphertext encoded using elements of $A$. The plaintext $P$ corresponding to $C$ is also encoded using elements of $A$. Let $M$ be a candidate decipherment of $C$, i.e. $M$ is the result of attempting to decrypt $C$ using a key $(a,b)$ which is not necessarily the same key used to encrypt $P$. Suppose $F_A(e)$ is the characteristic frequency probability of $e\\in A$ and let $F_M(e)$ be the message frequency probability with respect to $M$. The characteristic frequency probability distribution of an alphabet is the expected frequency probability distribution for that alphabet. The message frequency probability distribution of $M$ provides a distribution of the ratio of character occurrences over message length. One can interpret the characteristic frequency probability $F_A(e)$ as the expected probability, while the message frequency probability $F_M(e)$ is the observed probability. If $M$ is of length $L$, then the observed frequency of $e\\in A$ is\n",
    "\n",
    "$$O_M(e)=F_M(e)\\cdot L$$\n",
    "\n",
    "the expected frequency of $e\\in A$ is\n",
    "\n",
    "$$E_A(e)=F_A(e)\\cdot L$$\n",
    "\n",
    "The rank $R$ is\n",
    "\n",
    "$$R=\\sum_{e\\in A}\\frac{(O_M(e) - E_A(e))^2}{E_A(e)}$$"
   ]
  },
  {
   "cell_type": "code",
   "execution_count": 13,
   "metadata": {},
   "outputs": [
    {
     "data": {
      "text/plain": [
       "[((5, 11), LINEARFUNCTIONSFORENCRYPTINGANDDECRYPTING),\n",
       " ((21, 15), VYTCGPBMTENYSTOBSPCTEPIRNYTAGTDDCEPIRNYTA),\n",
       " ((19, 2), CTIHVUKDIBATLIXKLUHIBUPOATINVIEEHBUPOATIN),\n",
       " ((1, 7), HSRYELDAROVSWRQDWLYROLUBVSRIERTTYOLUBVSRI),\n",
       " ((7, 1), NWHIUVFMHOPWEHSFEVIHOVABPWHCUHLLIOVABPWHC)]"
      ]
     },
     "execution_count": 13,
     "metadata": {},
     "output_type": "execute_result"
    }
   ],
   "source": [
    "# attack success\n",
    "A = AffineCryptosystem(AlphabeticStrings())\n",
    "a, b = (5, 11)\n",
    "P = A.encoding(\"Linear functions for encrypting and decrypting.\")\n",
    "C = A.enciphering(a, b, P)\n",
    "# brute force attack\n",
    "Plist = A.brute_force(C)\n",
    "Rank = A.rank_by_chi_square(C, Plist)\n",
    "Rank[:5]  "
   ]
  },
  {
   "cell_type": "code",
   "execution_count": 15,
   "metadata": {},
   "outputs": [
    {
     "data": {
      "text/plain": [
       "[((1, 23), PWNPROOUKEATNCODGLMPRFIUNPOCWRPCARURN),\n",
       " ((19, 14), EDIEATTHBNVWIRTCJMXEAYFHIETRDAERVAHAI),\n",
       " ((25, 3), RKTRPSSMWCGNTESDAVURPBYMTRSEKPREGPMPT),\n",
       " ((17, 12), AFGAUDDLPHTOGNDKBMJAUEVLGADNFUANTULUG),\n",
       " ((7, 10), EFAEIPPBHVNMARPGZWLEIKDBAEPRFIERNIBIA)]"
      ]
     },
     "execution_count": 15,
     "metadata": {},
     "output_type": "execute_result"
    }
   ],
   "source": [
    "# attack failed\n",
    "A = AffineCryptosystem(AlphabeticStrings())\n",
    "a, b = (3, 10)\n",
    "P = A.encoding(\"sdaskjjlzxncafjopirskghlasjfdksfnklka\")\n",
    "C = A.enciphering(a, b, P)\n",
    "# brute force attack\n",
    "Plist = A.brute_force(C)\n",
    "Rank = A.rank_by_chi_square(C, Plist)\n",
    "Rank[:5]"
   ]
  }
 ],
 "metadata": {
  "kernelspec": {
   "display_name": "sage",
   "language": "python",
   "name": "python3"
  },
  "language_info": {
   "codemirror_mode": {
    "name": "ipython",
    "version": 3
   },
   "file_extension": ".py",
   "mimetype": "text/x-python",
   "name": "python",
   "nbconvert_exporter": "python",
   "pygments_lexer": "ipython3",
   "version": "3.11.7"
  }
 },
 "nbformat": 4,
 "nbformat_minor": 2
}
