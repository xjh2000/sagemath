{
 "cells": [
  {
   "cell_type": "code",
   "execution_count": 1,
   "metadata": {},
   "outputs": [],
   "source": [
    "from sage.all import * "
   ]
  },
  {
   "cell_type": "code",
   "execution_count": 4,
   "metadata": {},
   "outputs": [
    {
     "data": {
      "text/plain": [
       "JYVKSKQPELAYKPV"
      ]
     },
     "execution_count": 4,
     "metadata": {},
     "output_type": "execute_result"
    }
   ],
   "source": [
    "from sage.crypto.classical import HillCryptosystem\n",
    "\n",
    "S = AlphabeticStrings()\n",
    "E = HillCryptosystem(S, 3)\n",
    "\n",
    "R = IntegerModRing(26)\n",
    "M = MatrixSpace(R, 3, 3)\n",
    "A = M([[1, 0, 1], [0, 1, 1], [2, 2, 3]])\n",
    "e = E(A)\n",
    "e(S(\"LAMAISONBLANCHE\"))"
   ]
  }
 ],
 "metadata": {
  "kernelspec": {
   "display_name": "SageMath 10.2",
   "language": "sage",
   "name": "sagemath"
  },
  "language_info": {
   "codemirror_mode": {
    "name": "ipython",
    "version": 3
   },
   "file_extension": ".py",
   "mimetype": "text/x-python",
   "name": "python",
   "nbconvert_exporter": "python",
   "pygments_lexer": "ipython3",
   "version": "3.11.7"
  }
 },
 "nbformat": 4,
 "nbformat_minor": 2
}
